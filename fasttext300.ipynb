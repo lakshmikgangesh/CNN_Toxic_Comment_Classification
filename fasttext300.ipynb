{
 "cells": [
  {
   "cell_type": "code",
   "execution_count": 1,
   "metadata": {
    "_cell_guid": "b1076dfc-b9ad-4769-8c92-a6c4dae69d19",
    "_uuid": "8f2839f25d086af736a60e9eeb907d3b93b6e0e5",
    "execution": {
     "iopub.execute_input": "2022-04-22T04:58:16.015156Z",
     "iopub.status.busy": "2022-04-22T04:58:16.014790Z",
     "iopub.status.idle": "2022-04-22T04:58:17.913543Z",
     "shell.execute_reply": "2022-04-22T04:58:17.912045Z",
     "shell.execute_reply.started": "2022-04-22T04:58:16.015101Z"
    }
   },
   "outputs": [
    {
     "name": "stderr",
     "output_type": "stream",
     "text": [
      "Using TensorFlow backend.\n"
     ]
    },
    {
     "name": "stdout",
     "output_type": "stream",
     "text": [
      "['glove-global-vectors-for-word-representation', 'jigsaw-unintended-bias-in-toxicity-classification', 'fasttext-crawl-300d-2m']\n",
      "['glove.6B.200d.txt', 'glove.6B.50d.txt', 'glove.6B.100d.txt']\n",
      "['sample_submission.csv', 'all_data.csv', 'test_public_expanded.csv', 'test_private_expanded.csv', 'toxicity_individual_annotations.csv', 'train.csv', 'identity_individual_annotations.csv', 'test.csv']\n",
      "['crawl-300d-2M.vec']\n"
     ]
    }
   ],
   "source": [
    "# This Python 3 environment comes with many helpful analytics libraries installed\n",
    "# It is defined by the kaggle/python docker image: https://github.com/kaggle/docker-python\n",
    "# For example, here's several helpful packages to load in \n",
    "\n",
    "from collections import Counter\n",
    "import numpy as np # linear algebra\n",
    "import pandas as pd # data processing, CSV file I/O (e.g. pd.read_csv)\n",
    "import matplotlib.pyplot as plt\n",
    "from sklearn.metrics import roc_auc_score\n",
    "from sklearn.model_selection import train_test_split\n",
    "from keras.preprocessing.text import Tokenizer\n",
    "from keras.utils import to_categorical\n",
    "from keras.preprocessing.sequence import pad_sequences\n",
    "from keras.layers import Embedding\n",
    "from keras.layers import Input\n",
    "from keras.layers import Conv1D\n",
    "from keras.layers import MaxPooling1D\n",
    "from keras.layers import Flatten\n",
    "from keras.layers import Dropout\n",
    "from keras.layers import Dense\n",
    "from keras.optimizers import RMSprop\n",
    "from keras.models import Model\n",
    "from keras.models import load_model\n",
    "\n",
    "# Input data files are available in the \"../input/\" directory.\n",
    "# For example, running this (by clicking run or pressing Shift+Enter) will list the files in the input directory\n",
    "\n",
    "import os\n",
    "print(os.listdir(\"../input\"))\n",
    "print(os.listdir(\"../input/glove-global-vectors-for-word-representation\"))\n",
    "print(os.listdir(\"../input/jigsaw-unintended-bias-in-toxicity-classification\"))\n",
    "print(os.listdir(\"../input/fasttext-crawl-300d-2m\"))\n",
    "\n",
    "# Any results you write to the current directory are saved as output."
   ]
  },
  {
   "cell_type": "code",
   "execution_count": 2,
   "metadata": {
    "execution": {
     "iopub.execute_input": "2022-04-22T04:58:24.198946Z",
     "iopub.status.busy": "2022-04-22T04:58:24.198602Z",
     "iopub.status.idle": "2022-04-22T04:58:24.205740Z",
     "shell.execute_reply": "2022-04-22T04:58:24.204889Z",
     "shell.execute_reply.started": "2022-04-22T04:58:24.198856Z"
    }
   },
   "outputs": [],
   "source": [
    "# Config\n",
    "SEED = 11\n",
    "TARGET = 'target'\n",
    "TEXT = 'comment_text'\n",
    "PREDICTION = 'prediction'\n",
    "IDENTITY = ['male', 'female', 'homosexual_gay_or_lesbian', 'christian', 'jewish', 'muslim',\n",
    "            'black', 'white', 'psychiatric_or_mental_illness']\n",
    "MAX_NUM_WORDS = 10000\n",
    "MAX_SEQUENCE_LENGTH = 250\n",
    "TEST_SIZE = 0.01\n",
    "EMBEDDINGS_PATH = '../input/fasttext-crawl-300d-2m/crawl-300d-2M.vec'\n",
    "EMBEDDINGS_DIMENSION = 300\n",
    "DROPOUT_RATE = 0.3\n",
    "LEARNING_RATE = 1e-5\n",
    "NUM_EPOCHS = 10\n",
    "BATCH_SIZE = 128\n"
   ]
  },
  {
   "cell_type": "code",
   "execution_count": 3,
   "metadata": {
    "execution": {
     "iopub.execute_input": "2022-04-22T04:58:32.610259Z",
     "iopub.status.busy": "2022-04-22T04:58:32.609977Z",
     "iopub.status.idle": "2022-04-22T04:58:32.643923Z",
     "shell.execute_reply": "2022-04-22T04:58:32.643023Z",
     "shell.execute_reply.started": "2022-04-22T04:58:32.610208Z"
    }
   },
   "outputs": [],
   "source": [
    "CONTRACTIONS = {\"ain't\": \"is not\", \"aren't\": \"are not\",\"can't\": \"cannot\", \"'cause\": \"because\", \"could've\": \"could have\", \"couldn't\": \"could not\", \"didn't\": \"did not\", \n",
    "                \"doesn't\": \"does not\", \"don't\": \"do not\", \"hadn't\": \"had not\", \"hasn't\": \"has not\", \"haven't\": \"have not\", \"he'd\": \"he would\",\"he'll\": \"he will\", \"he's\": \"he is\",\n",
    "                \"how'd\": \"how did\", \"how'd'y\": \"how do you\", \"how'll\": \"how will\", \"how's\": \"how is\",  \"I'd\": \"I would\", \"I'd've\": \"I would have\", \"I'll\": \"I will\",\n",
    "                \"I'll've\": \"I will have\",\"I'm\": \"I am\", \"I've\": \"I have\", \"i'd\": \"i would\", \"i'd've\": \"i would have\", \"i'll\": \"i will\",  \"i'll've\": \"i will have\",\n",
    "                \"i'm\": \"i am\", \"i've\": \"i have\", \"isn't\": \"is not\", \"it'd\": \"it would\", \"it'd've\": \"it would have\", \"it'll\": \"it will\", \"it'll've\": \"it will have\",\n",
    "                \"it's\": \"it is\", \"let's\": \"let us\", \"ma'am\": \"madam\", \"mayn't\": \"may not\", \"might've\": \"might have\",\"mightn't\": \"might not\",\"mightn't've\": \"might not have\",\n",
    "                \"must've\": \"must have\", \"mustn't\": \"must not\", \"mustn't've\": \"must not have\", \"needn't\": \"need not\", \"needn't've\": \"need not have\",\"o'clock\": \"of the clock\",\n",
    "                \"oughtn't\": \"ought not\", \"oughtn't've\": \"ought not have\", \"shan't\": \"shall not\", \"sha'n't\": \"shall not\", \"shan't've\": \"shall not have\", \"she'd\": \"she would\",\n",
    "                \"she'd've\": \"she would have\", \"she'll\": \"she will\", \"she'll've\": \"she will have\", \"she's\": \"she is\", \"should've\": \"should have\", \"shouldn't\": \"should not\",\n",
    "                \"shouldn't've\": \"should not have\", \"so've\": \"so have\",\"so's\": \"so as\", \"this's\": \"this is\",\"that'd\": \"that would\", \"that'd've\": \"that would have\",\n",
    "                \"that's\": \"that is\", \"there'd\": \"there would\", \"there'd've\": \"there would have\", \"there's\": \"there is\", \"here's\": \"here is\",\"they'd\": \"they would\",\n",
    "                \"they'd've\": \"they would have\", \"they'll\": \"they will\", \"they'll've\": \"they will have\", \"they're\": \"they are\", \"they've\": \"they have\", \"to've\": \"to have\",\n",
    "                \"wasn't\": \"was not\", \"we'd\": \"we would\", \"we'd've\": \"we would have\", \"we'll\": \"we will\", \"we'll've\": \"we will have\", \"we're\": \"we are\", \"we've\": \"we have\",\n",
    "                \"weren't\": \"were not\", \"what'll\": \"what will\", \"what'll've\": \"what will have\", \"what're\": \"what are\",  \"what's\": \"what is\", \"what've\": \"what have\",\n",
    "                \"when's\": \"when is\", \"when've\": \"when have\", \"where'd\": \"where did\", \"where's\": \"where is\", \"where've\": \"where have\", \"who'll\": \"who will\",\n",
    "                \"who'll've\": \"who will have\", \"who's\": \"who is\", \"who've\": \"who have\", \"why's\": \"why is\", \"why've\": \"why have\", \"will've\": \"will have\", \"won't\": \"will not\",\n",
    "                \"won't've\": \"will not have\", \"would've\": \"would have\", \"wouldn't\": \"would not\", \"wouldn't've\": \"would not have\", \"y'all\": \"you all\", \"y'all'd\": \"you all would\",\n",
    "                \"y'all'd've\": \"you all would have\",\"y'all're\": \"you all are\",\"y'all've\": \"you all have\",\"you'd\": \"you would\", \"you'd've\": \"you would have\",\n",
    "                \"you'll\": \"you will\", \"you'll've\": \"you will have\", \"you're\": \"you are\", \"you've\": \"you have\", \"it's\": \"it is\" }\n"
   ]
  },
  {
   "cell_type": "code",
   "execution_count": 4,
   "metadata": {
    "execution": {
     "iopub.execute_input": "2022-04-22T04:58:43.746790Z",
     "iopub.status.busy": "2022-04-22T04:58:43.746502Z",
     "iopub.status.idle": "2022-04-22T04:59:08.180354Z",
     "shell.execute_reply": "2022-04-22T04:59:08.179555Z",
     "shell.execute_reply.started": "2022-04-22T04:58:43.746734Z"
    }
   },
   "outputs": [],
   "source": [
    "train = pd.read_csv('../input/jigsaw-unintended-bias-in-toxicity-classification/train.csv')\n",
    "\n",
    "# Make sure all comment_text values are strings\n",
    "train[TEXT] = train[TEXT].astype(str) \n",
    "\n",
    "# Convert taget and identity columns to booleans\n",
    "def convert_to_bool(df, col_name):\n",
    "    df[col_name] = np.where(df[col_name] >= 0.5, True, False)\n",
    "    \n",
    "def convert_dataframe_to_bool(df):\n",
    "    bool_df = df.copy()\n",
    "    for col in [TARGET] + IDENTITY:\n",
    "        convert_to_bool(bool_df, col)\n",
    "    return bool_df\n",
    "\n",
    "train = convert_dataframe_to_bool(train)\n"
   ]
  },
  {
   "cell_type": "code",
   "execution_count": 5,
   "metadata": {
    "execution": {
     "iopub.execute_input": "2022-04-22T04:59:21.846116Z",
     "iopub.status.busy": "2022-04-22T04:59:21.845720Z",
     "iopub.status.idle": "2022-04-22T04:59:21.852636Z",
     "shell.execute_reply": "2022-04-22T04:59:21.851951Z",
     "shell.execute_reply.started": "2022-04-22T04:59:21.846050Z"
    }
   },
   "outputs": [
    {
     "data": {
      "text/plain": [
       "(1804874, 45)"
      ]
     },
     "execution_count": 5,
     "metadata": {},
     "output_type": "execute_result"
    }
   ],
   "source": [
    "train.shape"
   ]
  },
  {
   "cell_type": "code",
   "execution_count": 6,
   "metadata": {
    "execution": {
     "iopub.execute_input": "2022-04-22T04:59:28.887065Z",
     "iopub.status.busy": "2022-04-22T04:59:28.886754Z",
     "iopub.status.idle": "2022-04-22T05:01:31.373243Z",
     "shell.execute_reply": "2022-04-22T05:01:31.372428Z",
     "shell.execute_reply.started": "2022-04-22T04:59:28.887010Z"
    }
   },
   "outputs": [
    {
     "name": "stdout",
     "output_type": "stream",
     "text": [
      "most common vocab: [('the', 4761525), ('to', 2667888), ('and', 2296943), ('of', 2062230), ('a', 1976994), ('is', 1782943), ('in', 1407762), ('that', 1348197), ('not', 1205767), ('i', 1053305), ('it', 1020002), ('you', 1016973), ('for', 963749), ('are', 843872), ('have', 678430), ('be', 642296), ('on', 623871), ('they', 608863), ('this', 591775), ('with', 588216), ('as', 539171), ('do', 498039), ('was', 466020), ('will', 433464), ('or', 429218), ('but', 422684), ('we', 412807), ('he', 408156), ('if', 382228), ('all', 381338), ('what', 372634), ('would', 355349), ('their', 353213), ('by', 346825), ('so', 332536), ('from', 332141), ('who', 331377), ('your', 328754), ('at', 327454), ('no', 319082), ('has', 308681), ('about', 301129), ('people', 301042), ('there', 283215), ('an', 280400), ('more', 275184), ('his', 270791), ('one', 262834), ('just', 262208), ('like', 257828), ('can', 248930), ('out', 232064), ('when', 221510), ('up', 218717), ('trump', 216474), ('our', 213560), ('how', 205180), ('them', 198762), ('my', 198332), ('get', 197615), ('should', 194564), ('us', 184463), ('than', 179817), ('did', 177427), ('were', 174322), ('been', 168198), ('does', 168108), ('only', 161559), ('time', 160957), ('any', 160562), ('some', 158631), ('because', 155211), ('other', 154388), ('now', 151841), ('those', 150289), ('think', 150287), ('why', 144623), ('am', 144609), ('many', 140715), ('know', 138980), ('then', 138534), ('good', 138273), ('which', 137437), ('even', 136982), ('had', 136563), ('right', 134930), ('these', 131003), ('me', 126653), ('over', 126594), ('years', 125103), ('see', 122655), ('being', 120797), ('could', 119378), ('make', 119228), ('much', 118893), ('well', 118343), ('way', 116725), ('she', 112014), ('need', 111975), ('most', 110365)]\n"
     ]
    }
   ],
   "source": [
    "# All comments must be truncated or padded to be the same length.\n",
    "def pad_text(texts, tokenizer):\n",
    "    return pad_sequences(tokenizer.texts_to_sequences(texts), maxlen=MAX_SEQUENCE_LENGTH)\n",
    "\n",
    "\n",
    "def _embeddings_index(path):\n",
    "    \"\"\"Load embeddings\"\"\"\n",
    "    embeddings_index = {}\n",
    "    with open(path) as f:\n",
    "        for line in f:\n",
    "            values = line.split()\n",
    "            word = values[0]\n",
    "            coefs = np.asarray(values[1:], dtype='float32')\n",
    "            embeddings_index[word] = coefs\n",
    "    return embeddings_index\n",
    "\n",
    "\n",
    "def _unknown_words(vocab, embeddings_index):\n",
    "    known_words_count_unique = 0\n",
    "    known_words_count = 0\n",
    "    unknown_words_count = 0\n",
    "    unknown_words = Counter()\n",
    "    for word in vocab.keys():\n",
    "        em = embeddings_index.get(word, None)\n",
    "        c = vocab.get(word)\n",
    "        if em is None:\n",
    "            unknown_words_count += c\n",
    "            unknown_words[word] += c\n",
    "        else:\n",
    "            known_words_count_unique += 1\n",
    "            known_words_count += c\n",
    "    print('Found embeddings for {:.3%} of vocab'.format(known_words_count_unique / len(vocab)))\n",
    "    print('Found embeddings for  {:.3%} of all text'.format(known_words_count / (known_words_count + unknown_words_count)))\n",
    "    return unknown_words\n",
    "\n",
    "\n",
    "def add_lowercase_to_embeddings(embeddings_index, vocab):\n",
    "    c = 0\n",
    "    for word in vocab:\n",
    "        l = word.lower()\n",
    "        if word in embeddings_index and l not in embeddings_index:  \n",
    "            embeddings_index[l] = embeddings_index[word]\n",
    "            c += 1\n",
    "    print('add_lowercase_to_embeddings: added {} words'.format(c))\n",
    "\n",
    "\n",
    "def clean_contractions(str, mapping=CONTRACTIONS):\n",
    "    specials = [\"’\", \"‘\", \"´\", \"`\"]\n",
    "    for s in specials:\n",
    "        str = str.replace(s, \"'\")\n",
    "    res = ' '.join([mapping[t] if t in mapping else t for t in str.split(' ')])\n",
    "    return res\n",
    "    \n",
    "\n",
    "train[TEXT] = train[TEXT].apply(lambda x: clean_contractions(x))\n",
    "# Create a text tokenizer.\n",
    "tokenizer = Tokenizer(num_words=MAX_NUM_WORDS)\n",
    "tokenizer.fit_on_texts(train[TEXT])\n",
    "vocab = Counter(tokenizer.word_counts)\n",
    "print('most common vocab: {}'.format(vocab.most_common(100)))\n",
    "\n",
    "\n",
    "\n",
    "    "
   ]
  },
  {
   "cell_type": "code",
   "execution_count": 7,
   "metadata": {
    "execution": {
     "iopub.execute_input": "2022-04-22T05:01:54.084080Z",
     "iopub.status.busy": "2022-04-22T05:01:54.083759Z",
     "iopub.status.idle": "2022-04-22T05:05:56.222079Z",
     "shell.execute_reply": "2022-04-22T05:05:56.221442Z",
     "shell.execute_reply.started": "2022-04-22T05:01:54.084023Z"
    }
   },
   "outputs": [
    {
     "name": "stdout",
     "output_type": "stream",
     "text": [
      "add_lowercase_to_embeddings: added 0 words\n",
      "Found embeddings for 38.529% of vocab\n",
      "Found embeddings for  98.745% of all text\n",
      "240338 unknown words\n",
      "most common unknown words: [(\"trump's\", 27931), (\"let's\", 15225), (\"i'm\", 10655), (\"canada's\", 8872), (\"what's\", 8738), (\"obama's\", 6513), (\"here's\", 6422), (\"people's\", 6132), (\"one's\", 5754), (\"today's\", 5506), ('khadr', 5168), (\"trudeau's\", 4767), (\"alaska's\", 4208), (\"god's\", 3956), (\"women's\", 3876), (\"world's\", 3346), ('murkowski', 3194), (\"america's\", 3164), (\"clinton's\", 3160), (\"state's\", 3149), (\"gov't\", 2968), (\"you've\", 2884), (\"we've\", 2882), ('“the', 2636), (\"government's\", 2513), (\"hillary's\", 2508), (\"else's\", 2498), (\"i've\", 2492), (\"we'll\", 2490), (\"country's\", 2479), (\"man's\", 2244), (\"wouldn't\", 2177), (\"o'leary\", 2177), (\"nation's\", 2154), (\"person's\", 2100), (\"aren't\", 2089), (\"someone's\", 2089), (\"church's\", 2067), (\"i'll\", 2029), (\"wasn't\", 1944), (\"harper's\", 1933), ('“i', 1891), (\"president's\", 1873), ('siemian', 1868), ('sb21', 1850), (\"i'd\", 1807), (\"they've\", 1798), (\"everyone's\", 1750), (\"hawaii's\", 1726), ('mulroney', 1708), (\"where's\", 1671), (\"putin's\", 1652), ('chretien', 1638), (\"china's\", 1595), (\"party's\", 1535), (\"children's\", 1509), (\"city's\", 1504), (\"hawai'i\", 1498), (\"shouldn't\", 1490), (\"who's\", 1458), (\"woman's\", 1458), (\"year's\", 1447), ('notley', 1442), (\"you'd\", 1410), ('theglobeandmail', 1354), (\"they'll\", 1342), (\"couldn't\", 1298), (\"russia's\", 1247), ('manafort', 1236), (\"anyone's\", 1230), (\"he'll\", 1209), (\"c'mon\", 1205), ('“we', 1163), (\"oregon's\", 1153), (\"60's\", 1153), (\"ontario's\", 1133), (\"how's\", 1116), (\"70's\", 1105), ('djou', 1097), ('albertans', 1097), ('alceste', 1082), (\"80's\", 1076), (\"bc's\", 1048), ('gorsuch', 1046), (\"comey's\", 998), (\"jesus'\", 996), ('sloter', 969), ('begich', 963), (\"men's\", 958), ('horgan', 950), (\"justin's\", 948), (\"father's\", 932), (\"governor's\", 932), ('usccb', 925), (\"child's\", 922), (\"family's\", 914), (\"khadr's\", 879), ('kpmg', 853), (\"driver's\", 844), (\"globe's\", 839), ('gabbard', 838), (\"that'll\", 836), ('tfsa', 832), (\"it'll\", 831), (\"bush's\", 816), (\"mother's\", 815), (\"90's\", 812), (\"company's\", 810), (\"guy's\", 807), ('sb91', 806), (\"ol'\", 796), (\"author's\", 778), ('jpii', 778), ('trumpster', 777), ('guptas', 776), (\"walker's\", 769), (\"public's\", 763), ('conoco', 749), (\"american's\", 747), (\"earth's\", 738), (\"other's\", 725), (\"alaskan's\", 708), ('kealoha', 705), ('imua', 702), (\"christ's\", 693), ('klastri', 691), (\"mayor's\", 685), ('“a', 684), (\"donald's\", 680), ('chaput', 671), (\"wife's\", 664), (\"mp's\", 656), ('fptp', 655), (\"media's\", 646), (\"israel's\", 644), ('arpaio', 639), (\"''\", 637), (\"alberta's\", 633), (\"administration's\", 631), ('massengill', 629), (\"o'reilly\", 628), (\"r's\", 627), ('mcguinty', 627), (\"its'\", 621), (\"others'\", 619), (\"1960's\", 618), (\"1950's\", 609), (\"francis'\", 605), ('shannyn', 601), ('punahou', 595), (\"peoples'\", 586), ('“if', 584), (\"nazi's\", 583), (\"yesterday's\", 581), (\"vancouver's\", 576), ('raitt', 570), (\"d's\", 569), (\"hasn't\", 568), (\"eugene's\", 567), ('kapolei', 564), ('anwr', 555), ('inouye', 554), (\"toronto's\", 554), (\"1980's\", 553), ('mulcair', 545), (\"1970's\", 533), ('rhyner', 523), ('“it', 519), (\"ain't\", 519), (\"wynne's\", 518), (\"we'd\", 517), ('heco', 516), (\"life's\", 511), (\"pm's\", 510), (\"society's\", 507), ('\\xa0', 504), ('ibbitson', 504), ('poloz', 504), (\"they'd\", 502), (\"50's\", 501), ('ᴀɴᴅ', 501), (\"mcdonald's\", 500), ('sajjan', 499), ('ontarians', 496), ('coghill', 495), (\"denver's\", 494), (\"left's\", 489), (\"weren't\", 488), (\"ceo's\", 487), ('osweiler', 486), ('mufi', 483), (\"court's\", 482), ('pfds', 482), ('“this', 479), (\"sayin'\", 476), (\"pope's\", 476), ('auwe', 476), (\"son's\", 475), ('clallam', 471), ('zinke', 464), (\"it'\", 463), (\"he'd\", 461), (\"taxpayers'\", 461), (\"korea's\", 461), (\"doctor's\", 460), ('tokuda', 460), (\"liberal's\", 459), ('monsef', 459), (\"mueller's\", 455), (\"“it's\", 454), (\"individual's\", 452), (\"nobody's\", 451), ('wohlforth', 449), (\"teacher's\", 448), ('hanabusa', 447), ('lw1', 447), (\"1930's\", 445), ('dprk', 444), ('helfrich', 443), (\"kid's\", 442), (\"people'\", 441), ('cmhc', 440), ('hirono', 439), ('dlnr', 438), ('coupeville', 438), (\"citizen's\", 435), (\"husband's\", 435), ('kakaako', 431), (\"hitler's\", 427), (\"clark's\", 426), (\"taxpayer's\", 425), ('cupich', 423), (\"caldwell's\", 420), (\"another's\", 418), (\"1990's\", 415), ('nationalpost', 415), (\"bill's\", 414), (\"quebec's\", 414), (\"team's\", 413), (\"mom's\", 408), (\"john's\", 406), ('waianae', 406), (\"who'd\", 405), (\"parents'\", 404), (\"colorado's\", 404), ('prudhoe', 403), (\"reagan's\", 400), ('“you', 400), (\"judge's\", 400), ('mililani', 400), ('nenshi', 397), (\"everybody's\", 396), ('giessel', 395), (\"kim's\", 392), (\"victim's\", 389), (\"friend's\", 387), (\"paul's\", 387), ('chenault', 385), ('trumpsters', 385), ('scaramucci', 384), ('trumpian', 383), ('hickenlooper', 382), ('renzetti', 382), ('2gtbpns', 381), ('hilcorp', 380), (\"states'\", 379), (\"liberals'\", 378), (\"province's\", 378), (\"lord's\", 371), ('“in', 368), (\"morneau's\", 367), ('“there', 366), (\"legislature's\", 365), (\"kids'\", 361), ('spenard', 361), (\"pfd's\", 359), ('goodale', 359), ('onkey', 356), ('cayetano', 356), ('shibai', 355), ('ahca', 354), (\"minister's\", 353), (\"saudi's\", 352), ('wiliki', 352), (\"martin's\", 351), (\"gop's\", 351), (\"assad's\", 351), (\"qb's\", 349), ('denverpost', 345), ('splc', 344), (\"alzheimer's\", 344), ('ᴛʜᴇ', 343), (\"bannon's\", 343), ('micciche', 342), ('“no', 341), (\"writer's\", 341), ('rrsps', 341), (\"dad's\", 340), (\"news'\", 339), ('m103', 338), (\"m's\", 336), (\"100's\", 336), (\"europe's\", 335), (\"neighbor's\", 335), (\"daughter's\", 334), (\"queen's\", 332), ('ʜᴏᴍᴇ', 332), (\"county's\", 331), (\"article's\", 331), ('ᴜᴘ', 331), (\"week's\", 330), ('ᴀᴛ', 330), ('yᴏᴜ', 330), ('ʙʏ', 330), ('ramaphosa', 330), (\"up'\", 328), ('saullie', 328), ('zille', 328), (\"daddy's\", 327), (\"30's\", 322), (\"parent's\", 321), ('southey', 321), (\"attorney's\", 317), (\"employee's\", 313), (\"king's\", 311), (\"kelly's\", 311), ('rangermc', 310), (\"iran's\", 308), ('keala', 308), (\"owner's\", 307), ('“he', 306), (\"bishops'\", 306), (\"sheriff's\", 304), ('gorka', 304), ('vinis', 303), (\"dog's\", 303), (\"o'toole\", 303), ('conocophillips', 302), (\"da's\", 301), (\"day's\", 299), (\"lot's\", 296), ('koncerned', 296), (\"ndp's\", 296), (\"nixon's\", 295), ('kalihi', 295), ('priebus', 293), ('hilliary', 291), ('adfg', 291), ('kaneshiro', 291), (\"she'll\", 290), ('civilbeat', 290), ('tfws', 290), ('quebecers', 290), (\"citizens'\", 289), ('trumpy', 288), ('sjws', 288), (\"canadian's\", 288), ('rosenstein', 288), ('wyden', 287), (\"candidate's\", 285), (\"wente's\", 284), (\"officer's\", 283), (\"cont'd\", 283), (\"usa's\", 282), (\"teachers'\", 281), (\"burke's\", 281), (\"zuma's\", 281), (\"nk's\", 281), (\"qur'an\", 279), (\"us's\", 278), ('krauthammer', 277), (\"johnson's\", 276), (\"'fake\", 276), (\"40's\", 275), (\"'white\", 275), (\"university's\", 274), (\"mccain's\", 274), (\"mexico's\", 273), ('l2g', 273), ('icbms', 273), ('“when', 272), ('…and', 272), (\"school's\", 271), (\"bernie's\", 270), (\"brown's\", 270), ('rogoff', 270), ('trumpkins', 268), ('creswell', 267), (\"“i'm\", 267), ('brazile', 266), (\"somebody's\", 265), ('“they', 265), ('“but', 265), (\"o'malley\", 265), ('columbians', 265), (\"republican's\", 264), (\"ryan's\", 263), (\"pc's\", 263), ('mallott', 261), ('girdwood', 260), ('bergdahl', 260), ('trudeaus', 259), ('“what', 259), ('knik', 259), ('bclibs', 259), (\"boy's\", 258), ('goebbels', 258), ('m97', 258), (\"anchorage's\", 256), ('garycrum', 255), (\"worker's\", 253), ('bigoil', 252), (\"honolulu's\", 252), ('magnitsky', 252), ('gordhan', 252), ('albertan', 250), ('whiteaker', 249), (\"jesus's\", 249), (\"freeland's\", 248), (\"'news'\", 247), ('“as', 247), ('chugiak', 247), (\"group's\", 246), ('payette', 246), ('chrystia', 245), ('bavius', 245), (\"community's\", 244), (\"dem's\", 244), (\"scheer's\", 243), (\"germany's\", 242), (\"un's\", 242), (\"20's\", 241), (\"hart's\", 241), (\"post's\", 241), ('rohingya', 241), (\"department's\", 239), ('demboski', 239), ('trudope', 239), (\"workers'\", 238), (\"merkel's\", 238), ('ganot', 238), (\"bishop's\", 237), ('lw2', 237), ('“to', 236), ('susitna', 236), (\"murkowski's\", 236), ('“and', 236), ('aogcc', 236), ('chugach', 235), (\"council's\", 234), (\"right's\", 234), ('ontariowe', 234), ('shurtz', 234), (\"california's\", 233), ('coloradans', 233), (\"industry's\", 232), (\"night's\", 232), ('diefenbaker', 232), ('lingle', 231), ('kiszla', 231), ('oregonlive', 230), (\"politician's\", 230), (\"there'll\", 229), (\"get's\", 229), (\"oahu's\", 229), (\"ev's\", 228), (\"flynn's\", 228), (\"'”\", 227), (\"y'all\", 226), (\"'right'\", 226), ('nurnie', 226), (\"khan's\", 225), (\"democrat's\", 224), ('maoli', 224), ('iolani', 224), ('statscan', 224), (\"it'd\", 223), (\"jt's\", 223), ('rrif', 223), ('cashapp24', 221), ('kendzior', 221), (\"employer's\", 220), ('donkel', 220), ('brena', 220), ('mencken', 219), (\"brother's\", 219), (\"americans'\", 219), (\"junior's\", 219), ('kitzhaber', 218), ('wwiii', 218), (\"pence's\", 218), (\"canadians'\", 218), ('cheetolini', 218), (\"republicans'\", 217), ('alaskas', 217), (\"lincoln's\", 217), (\"cbc's\", 217), (\"senate's\", 216), (\"out'\", 216), ('lieberals', 216), ('layla4', 216), (\"sullivan's\", 215), ('wielechowski', 215), ('thedonald', 215), (\"sanders'\", 214), ('bcers', 214), (\"devil's\", 213), (\"student's\", 212), (\"heaven's\", 212), ('hudak', 212), ('ghomeshi', 212), (\"master's\", 211), (\"ied's\", 211), ('yakabuski', 211), ('11e7', 211), (\"democrats'\", 210), (\"voters'\", 210), (\"leader's\", 210), ('dailycaller', 209), ('keillor', 209), (\"lisa's\", 209), ('dhhl', 209), (\"elway's\", 209), ('norsat', 209), (\"buyer's\", 208), (\"anybody's\", 208), ('transcanada', 208), (\"cnn's\", 207), ('hickel', 206), (\"kealoha's\", 206), ('brietbart', 206), ('diverdave', 206), (\"'no'\", 205), (\"chief's\", 204), ('scoc', 204), (\"fbi's\", 203), ('covfefe', 203), ('finicum', 202), ('haycox', 201), ('dlamini', 201), (\"'80s\", 200), ('washingtontimes', 200), (\"adn's\", 200), (\"orwell's\", 200), ('staradvertiser', 200), ('hortons', 200), ('motleycrew', 199), ('shopo', 198), (\"leo's\", 197), ('minshall', 197), ('gics', 197), ('defazio', 196), (\"britain's\", 196), ('minnery', 196), ('fukumoto', 196), ('souki', 196), ('zupta', 196), (\"japan's\", 195), ('gattis', 195), ('rempel', 195), ('veco', 194), (\"o'ahu\", 194), (\"nature's\", 193), ('tridentinus', 193), ('scalise', 193), (\"'good'\", 192), ('hannemann', 192), (\"moore's\", 191), (\"rat's\", 191), (\"1800's\", 191), ('couillard', 191), ('tfsas', 191), (\"'70s\", 190), ('mahawker', 190), (\"syria's\", 190), (\"'60s\", 189), ('“for', 189), (\"“we're\", 189), (\"girl's\", 189), ('meggsy', 189), ('bergevin', 189), ('dillingham', 188), (\"palin's\", 188), ('“that', 188), (\"prosecutor's\", 188), ('mnuchin', 188), ('jagmeet', 188), (\"general's\", 187), ('kochs', 187), (\"mcconnell's\", 187), ('11e6', 187), ('nimitz', 187), (\"ma'am\", 186), (\"'free'\", 186), (\"france's\", 186), ('brazeau', 186), ('mansbridge', 186), ('metrolinx', 186), (\"tim's\", 185), (\"ag's\", 185), (\"west's\", 185), ('nikiski', 185), ('beyak', 185), (\"business's\", 183), (\"1000's\", 183), ('ancsa', 183), (\"peter's\", 183), (\"notley's\", 183), (\"lee's\", 182), (\"rino's\", 182), ('hsta', 182), (\"msw's\", 181), ('tdsb', 181), ('arenado', 181), ('mlas', 180), (\"kennedy's\", 178), ('ᴄʜᴇᴄᴋ', 178), ('maimane', 178), ('odot', 177), ('kahuku', 177), ('ghgs', 177), ('bxvi', 177), ('adscam', 177), (\"chin's\", 177), (\"students'\", 176), (\"heart's\", 176), ('“not', 176), ('ғᴏʀ', 176), (\"area's\", 176), (\"right'\", 176), (\"francis's\", 176), (\"years'\", 175), ('mupte', 175), ('l48', 175), ('ᴄᴏᴍᴘᴜᴛᴇʀ', 175), (\"10's\", 175), ('ᴛʜɪs', 175), ('gigaba', 175), (\"fool's\", 174), ('kealohas', 174), (\"hero's\", 173), ('transmountain', 173), ('ignatieff', 173), ('nageak', 172), ('ᴍᴏɴᴛʜ', 172), ('duii', 171), (\"month's\", 171), (\"law's\", 171), (\"pandora's\", 171), ('ᴡᴏʀᴋɪɴɢ', 171), (\"horton's\", 171), ('kenoi', 171), ('lyles', 171), ('magaphants', 171), ('soldotna', 170), (\"commission's\", 170), ('ʜᴏᴜʀʟʏ', 170), ('ᴏғ', 170), ('ᴊᴏʙ', 170), (\"ige's\", 170), (\"don'\", 170), ('tancredo', 170), (\"washington's\", 169), (\"anc's\", 169), ('macleans', 169), (\"mary's\", 168), (\"o's\", 168), (\"1940's\", 168), ('obomba', 167), ('beltrami', 167), ('ᴛᴏ', 167), ('ʟɪɴᴋ', 167), ('ᴡᴇᴇᴋ', 167), (\"bank's\", 167), (\"gupta's\", 167), (\"joe's\", 166), ('cadwell', 166), (\"gov's\", 166), ('ktuu', 166), ('ᴄᴀɴ', 166), ('ʜᴀᴠᴇ', 166), (\"mulroney's\", 166), ('coderre', 166), ('petrows', 166), (\"harm's\", 165), ('“our', 165), ('aidea', 165), (\"fed's\", 165), ('sᴛᴀʀᴛ', 165), ('ғʀᴏᴍ', 165), ('gʀᴇᴀᴛ', 165), ('sᴛᴜᴅᴇɴᴛs', 165), ('sᴛᴀʏ', 165), ('ᴍᴏᴍs', 165), ('ᴏʀ', 165), ('ᴀɴʏᴏɴᴇ', 165), ('ɴᴇᴇᴅɪɴɢ', 165), ('ᴀɴ', 165), ('ᴇxᴛʀᴀ', 165), ('ɪɴᴄᴏᴍᴇ', 165), ('ᴏɴʟʏ', 165), ('ɴᴇᴇᴅ', 165), ('ʀᴇʟɪᴀʙʟᴇ', 165), ('ɪɴᴛᴇʀɴᴇᴛ', 165), ('ᴄᴏɴɴᴇᴄᴛɪᴏɴ', 165), ('mᴀᴋᴇ', 165), ('ғᴏʟʟᴏᴡɪɴɢ', 165), ('ʙᴏᴛᴛᴏᴍ', 165), ('sɪɢɴɪɴɢ', 165), ('ʏᴏᴜʀ', 165), ('ғɪʀsᴛ', 165), ('ᴇɴᴅ', 165), ('papahanaumokuakea', 165), (\"countries'\", 164), (\"change'\", 164), ('muckamuck', 164), ('kapiolani', 164), (\"ivanka's\", 164), ('gianforte', 164), ('trumpf', 163), (\"islam's\", 163), ('torontonians', 163), ('usfs', 162), ('akleg', 162), (\"campaign's\", 162), (\"vatican's\", 162), (\"o'leary's\", 162), ('yiannopoulos', 161), ('outsider77', 160), (\"'real'\", 160), ('alyeska', 160), ('kotzebue', 160), (\"australia's\", 160), ('hmsa', 160), (\"board's\", 159), (\"poster's\", 159), ('whataboutism', 159), (\"money's\", 158), (\"ukraine's\", 158), ('financialpost', 158), ('cdic', 158), (\"life'\", 157), (\"'non\", 157), ('ncronline', 157), ('papadopoulos', 157), (\"'facts'\", 156), (\"gov'ts\", 156), (\"sjw's\", 156), ('“my', 156), ('“all', 156), ('damore', 156), (\"world'\", 155), (\"rail's\", 155), (\"union's\", 155), (\"money'\", 155), ('hgea', 155), ('lepen', 155), (\"us'\", 154), ('agdc', 154), ('wespac', 154), ('chatwood', 154), ('nbcnews', 153), (\"'anti\", 153), ('kearon', 153), (\"down'\", 152), (\"military's\", 152), (\"tomorrow's\", 152), (\"w's\", 152), ('lesil', 152), ('trumpettes', 152), (\"man'\", 152), ('pgtype', 152), (\"hrc's\", 152), (\"employees'\", 151), (\"stalin's\", 151), (\"priest's\", 151), ('motherjones', 151), (\"nations'\", 151), ('kobach', 151), ('nanakuli', 151), ('gotsis', 151), (\"'public\", 150), (\"'liberal'\", 150), (\"wilson's\", 150), (\"'we'\", 150), ('ledoux', 150), ('…the', 150), (\"ncr's\", 150), ('907ak', 150), ('crapwell', 150), (\"'new'\", 149), ('“so', 149), ('scientificamerican', 149), ('trumpty', 149), (\"smith's\", 148), (\"trump'\", 148), ('anilca', 148), (\"o'\", 148), (\"baby's\", 148), ('bergoglio', 148), (\"speech'\", 147), (\"lyin'\", 147), (\"say's\", 147), (\"gore's\", 147), ('sacp', 147), (\"portland's\", 146), ('talkingpointsmemo', 146), ('hiliary', 146), (\"organization's\", 146), (\"ii's\", 146), (\"how'd\", 146), ('browder', 146), ('paprocki', 146), ('spadaro', 146), ('putrumpski', 146), (\"sunday's\", 145), ('saiki', 145), (\"sa's\", 145), (\"tax's\", 144), (\"reporter's\", 144), (\"2000's\", 144), ('kabata', 144), (\"story's\", 144), ('philpott', 144), (\"africa's\", 143), ('milbank', 143), (\"'social\", 143), (\"wmd's\", 142), (\"1920's\", 142), (\"ford's\", 142), ('trumpland', 142), ('antifluoridationists', 142), (\"ottawa's\", 142), (\"voter's\", 141), ('rodham', 141), ('dejain', 141), (\"djou's\", 141), ('eichmann', 141), ('merkley', 140), (\"jr's\", 140), ('trumpists', 140), (\"chretien's\", 140), ('lesterp', 140), ('ieds', 139), ('commondreams', 139), (\"lion's\", 139), ('exedus', 139), (\"senator's\", 138), (\"young's\", 138), (\"player's\", 138), (\"member's\", 138), (\"veteran's\", 138), (\"'trump\", 138), (\"castro's\", 138), ('lougheed', 138), ('cathal', 138), ('thaad', 138), ('“an', 137), ('eugreen', 137), ('caelus', 137), (\"island's\", 137), ('ikaika', 137), ('skyofblue', 137), ('itmfa', 137), ('“do', 136), (\"oil's\", 136), (\"business'\", 136), (\"gardner's\", 136), (\"suv's\", 136), ('kalakaua', 136), (\"victims'\", 135), ('tuckerman', 135), (\"farmer's\", 134), ('trost', 134), ('ferc', 134), ('jerry69', 134), ('twitler', 134), ('molefe', 134), (\"t's\", 133), (\"pete's\", 133), (\"navy's\", 133), (\"law'\", 132), (\"'don't\", 132), (\"kaepernick's\", 132), ('gubmit', 132), (\"planet's\", 131), ('rampell', 131), (\"'it's\", 131), (\"district's\", 131), (\"'progressive'\", 131), (\"freakin'\", 131), (\"christy's\", 131), ('nusra', 131), (\"leitch's\", 131), ('keaukaha', 131), ('lazeelink', 131), ('quebeckers', 131), (\"committee's\", 130), (\"'90s\", 130), (\"uk's\", 130), ('krook', 130), ('jeffco', 130), (\"may's\", 130), (\"'truth'\", 129), (\"something's\", 129), (\"lawyer's\", 129), (\"'climate\", 129), (\"drumpf's\", 129), ('mbeki', 129), ('bowlen', 129), ('“how', 128), (\"alaskans'\", 128), ('trumpeteers', 128), (\"you'\", 128), (\"tesla's\", 128), ('reince', 128), (\"dnc's\", 128), ('krookwell', 128), ('olcc', 127), (\"'white'\", 127), ('peacehealth', 127), (\"your's\", 127), (\"hilary's\", 127), (\"manafort's\", 127), ('weinandy', 127), (\"jehovah's\", 126), (\"y'know\", 126), ('jinping', 126), ('pallister', 126), ('hodgkinson', 126), (\"'civil'\", 125), ('hitlery', 125), (\"omar's\", 125), ('gowdy', 125), (\"conservatives'\", 124), (\"constitution's\", 124), (\"house's\", 124), (\"c'est\", 124), (\"ali'i\", 124), ('clodwell', 124), ('gubmut', 123), (\"india's\", 123), (\"amazon's\", 123), (\"kushner's\", 123), (\"bombardier's\", 123), ('hussen', 123), ('kislyak', 123), (\"agency's\", 122), (\"'normal'\", 122), (\"miller's\", 122), ('americanthinker', 122), ('adventism', 122), (\"podesta's\", 122), ('fillon', 122), ('wweek', 121), (\"'like'\", 121), (\"i's\", 121), (\"trumps'\", 121), ('kawamoto', 121), (\"'they'\", 121), (\"barry's\", 121), ('vancouverites', 121), ('osfi', 121), ('zuptas', 121), ('bozievich', 120), (\"professor's\", 120), ('dixiecrats', 120), ('wuerl', 120), (\"bernier's\", 120), (\"handmaid's\", 120), (\"she'd\", 119), ('asrc', 119), (\"sessions'\", 119), ('thielen', 119), ('pandora17', 119), ('elagabalus', 119), ('socreds', 119), ('bundys', 118), (\"ya'\", 118), (\"cat's\", 118), (\"hadn't\", 118), ('hvdc', 118), (\"macdonald's\", 118), (\"rg's\", 117), (\"foundation's\", 117), (\"want's\", 117), (\"don's\", 117), (\"state'\", 117), (\"patient's\", 117), ('mlse', 117), ('mbalula', 117), (\"bronco's\", 117), (\"venezuela's\", 116), ('hkrieger', 116), (\"tv's\", 116), (\"nra's\", 116), (\"ya'll\", 116), (\"paper's\", 116), ('matanuska', 116), ('corbeil', 116)]\n"
     ]
    }
   ],
   "source": [
    "embeddings_index = _embeddings_index(EMBEDDINGS_PATH)\n",
    "# Glove does not have contractions such as \"it's\", \"that's\"\n",
    "#print(\"it is={}\".format(\"it is\" in embeddings_index))\n",
    "#print(\"that is={}\".format(\"that is\" in embeddings_index))\n",
    "add_lowercase_to_embeddings(embeddings_index, vocab)\n",
    "unknown_words = _unknown_words(vocab, embeddings_index)\n",
    "print('{} unknown words'.format(len(unknown_words)))\n",
    "print('most common unknown words: {}'.format(unknown_words.most_common(1000)))"
   ]
  },
  {
   "cell_type": "code",
   "execution_count": 8,
   "metadata": {
    "execution": {
     "iopub.execute_input": "2022-04-22T05:06:10.251234Z",
     "iopub.status.busy": "2022-04-22T05:06:10.250961Z",
     "iopub.status.idle": "2022-04-22T05:06:11.932747Z",
     "shell.execute_reply": "2022-04-22T05:06:11.931985Z",
     "shell.execute_reply.started": "2022-04-22T05:06:10.251183Z"
    }
   },
   "outputs": [
    {
     "data": {
      "text/plain": [
       "((1786825, 45), (18049, 45))"
      ]
     },
     "execution_count": 8,
     "metadata": {},
     "output_type": "execute_result"
    }
   ],
   "source": [
    "train_df, validate_df = train_test_split(train, test_size=TEST_SIZE, random_state=SEED)\n",
    "train_df.shape, validate_df.shape"
   ]
  },
  {
   "cell_type": "code",
   "execution_count": 9,
   "metadata": {
    "execution": {
     "iopub.execute_input": "2022-04-22T05:06:15.873854Z",
     "iopub.status.busy": "2022-04-22T05:06:15.873291Z",
     "iopub.status.idle": "2022-04-22T05:28:26.089881Z",
     "shell.execute_reply": "2022-04-22T05:28:26.089046Z",
     "shell.execute_reply.started": "2022-04-22T05:06:15.873602Z"
    }
   },
   "outputs": [
    {
     "name": "stdout",
     "output_type": "stream",
     "text": [
      "compiling model...\n",
      "WARNING:tensorflow:From /opt/conda/lib/python3.6/site-packages/tensorflow/python/framework/op_def_library.py:263: colocate_with (from tensorflow.python.framework.ops) is deprecated and will be removed in a future version.\n",
      "Instructions for updating:\n",
      "Colocations handled automatically by placer.\n",
      "WARNING:tensorflow:From /opt/conda/lib/python3.6/site-packages/keras/backend/tensorflow_backend.py:3445: calling dropout (from tensorflow.python.ops.nn_ops) with keep_prob is deprecated and will be removed in a future version.\n",
      "Instructions for updating:\n",
      "Please use `rate` instead of `keep_prob`. Rate should be set to `rate = 1 - keep_prob`.\n",
      "training model...\n",
      "WARNING:tensorflow:From /opt/conda/lib/python3.6/site-packages/tensorflow/python/ops/math_ops.py:3066: to_int32 (from tensorflow.python.ops.math_ops) is deprecated and will be removed in a future version.\n",
      "Instructions for updating:\n",
      "Use tf.cast instead.\n",
      "Train on 1786825 samples, validate on 18049 samples\n",
      "Epoch 1/10\n",
      " - 123s - loss: 0.2248 - acc: 0.9260 - val_loss: 0.1705 - val_acc: 0.9396\n",
      "Epoch 2/10\n",
      " - 120s - loss: 0.1654 - acc: 0.9404 - val_loss: 0.1544 - val_acc: 0.9438\n",
      "Epoch 3/10\n",
      " - 119s - loss: 0.1555 - acc: 0.9437 - val_loss: 0.1498 - val_acc: 0.9459\n",
      "Epoch 4/10\n",
      " - 120s - loss: 0.1509 - acc: 0.9451 - val_loss: 0.1459 - val_acc: 0.9474\n",
      "Epoch 5/10\n",
      " - 120s - loss: 0.1478 - acc: 0.9460 - val_loss: 0.1433 - val_acc: 0.9475\n",
      "Epoch 6/10\n",
      " - 120s - loss: 0.1440 - acc: 0.9473 - val_loss: 0.1417 - val_acc: 0.9487\n",
      "Epoch 8/10\n",
      " - 120s - loss: 0.1426 - acc: 0.9477 - val_loss: 0.1407 - val_acc: 0.9490\n",
      "Epoch 9/10\n",
      " - 119s - loss: 0.1416 - acc: 0.9479 - val_loss: 0.1408 - val_acc: 0.9487\n",
      "Epoch 10/10\n",
      " - 119s - loss: 0.1407 - acc: 0.9483 - val_loss: 0.1410 - val_acc: 0.9489\n",
      "_________________________________________________________________\n",
      "Layer (type)                 Output Shape              Param #   \n",
      "=================================================================\n",
      "input_1 (InputLayer)         (None, 250)               0         \n",
      "_________________________________________________________________\n",
      "embedding_1 (Embedding)      (None, 250, 300)          117293400 \n",
      "_________________________________________________________________\n",
      "conv1d_1 (Conv1D)            (None, 250, 128)          76928     \n",
      "_________________________________________________________________\n",
      "max_pooling1d_1 (MaxPooling1 (None, 50, 128)           0         \n",
      "_________________________________________________________________\n",
      "conv1d_2 (Conv1D)            (None, 50, 128)           49280     \n",
      "_________________________________________________________________\n",
      "max_pooling1d_2 (MaxPooling1 (None, 10, 128)           0         \n",
      "_________________________________________________________________\n",
      "conv1d_3 (Conv1D)            (None, 10, 128)           65664     \n",
      "_________________________________________________________________\n",
      "max_pooling1d_3 (MaxPooling1 (None, 1, 128)            0         \n",
      "_________________________________________________________________\n",
      "flatten_1 (Flatten)          (None, 128)               0         \n",
      "_________________________________________________________________\n",
      "dropout_1 (Dropout)          (None, 128)               0         \n",
      "_________________________________________________________________\n",
      "dense_1 (Dense)              (None, 128)               16512     \n",
      "_________________________________________________________________\n",
      "dense_2 (Dense)              (None, 2)                 258       \n",
      "=================================================================\n",
      "Total params: 117,502,042\n",
      "Trainable params: 208,642\n",
      "Non-trainable params: 117,293,400\n",
      "_________________________________________________________________\n"
     ]
    }
   ],
   "source": [
    "def _embedding_matrix(embeddings_index, tokenizer, dimension_size):\n",
    "    embedding_matrix = np.zeros((len(tokenizer.word_index) + 1, dimension_size))\n",
    "    for word, i in tokenizer.word_index.items():\n",
    "        embedding_vector = embeddings_index.get(word)\n",
    "        if embedding_vector is not None:\n",
    "            # words not found in embedding index will be all-zeros.\n",
    "            embedding_matrix[i] = embedding_vector\n",
    "    return embedding_matrix\n",
    "\n",
    "\n",
    "def train_model(train_df, validate_df, tokenizer, embeddings_index):\n",
    "    \"\"\"Define and train a Convolutional Neural Net for classifying toxic comments\"\"\"\n",
    "    # Prepare data\n",
    "    train_text = pad_text(train_df[TEXT], tokenizer)\n",
    "    train_labels = to_categorical(train_df[TARGET])\n",
    "    validate_text = pad_text(validate_df[TEXT], tokenizer)\n",
    "    validate_labels = to_categorical(validate_df[TARGET])\n",
    "\n",
    "    embedding_matrix = _embedding_matrix(embeddings_index, tokenizer, dimension_size=EMBEDDINGS_DIMENSION)\n",
    "    \n",
    "\n",
    "    # Create model layers.\n",
    "    def get_convolutional_neural_net_layers():\n",
    "        \"\"\"Returns (input_layer, output_layer)\"\"\"\n",
    "        sequence_input = Input(shape=(MAX_SEQUENCE_LENGTH,), dtype='int32')\n",
    "        embedding_layer = Embedding(len(tokenizer.word_index) + 1,\n",
    "                                    EMBEDDINGS_DIMENSION,\n",
    "                                    weights=[embedding_matrix],\n",
    "                                    input_length=MAX_SEQUENCE_LENGTH,\n",
    "                                    trainable=False)\n",
    "        x = embedding_layer(sequence_input)\n",
    "        x = Conv1D(128, 2, activation='relu', padding='same')(x)\n",
    "        x = MaxPooling1D(5, padding='same')(x)\n",
    "        x = Conv1D(128, 3, activation='relu', padding='same')(x)\n",
    "        x = MaxPooling1D(5, padding='same')(x)\n",
    "        x = Conv1D(128, 4, activation='relu', padding='same')(x)\n",
    "        x = MaxPooling1D(40, padding='same')(x)\n",
    "        x = Flatten()(x)\n",
    "        x = Dropout(rate=DROPOUT_RATE, seed=SEED)(x)\n",
    "        x = Dense(128, activation='relu')(x)\n",
    "        preds = Dense(2, activation='softmax')(x)\n",
    "        return sequence_input, preds\n",
    "\n",
    "    # Compile model.\n",
    "    print('compiling model...')\n",
    "    input_layer, output_layer = get_convolutional_neural_net_layers()\n",
    "    model = Model(input_layer, output_layer)\n",
    "    model.compile(loss='categorical_crossentropy',\n",
    "                  optimizer=RMSprop(lr=LEARNING_RATE),\n",
    "                  metrics=['acc'])\n",
    "\n",
    "    # Train model.\n",
    "    print('training model...')\n",
    "    history = model.fit(train_text,\n",
    "                  train_labels,\n",
    "                  batch_size=BATCH_SIZE,\n",
    "                  epochs=NUM_EPOCHS,\n",
    "                  validation_data=(validate_text, validate_labels),\n",
    "                  verbose=2)\n",
    "\n",
    "    return model, history\n",
    "\n",
    "model, history = train_model(train_df, validate_df, tokenizer, embeddings_index)\n",
    "model.summary()"
   ]
  },
  {
   "cell_type": "code",
   "execution_count": 10,
   "metadata": {
    "execution": {
     "iopub.execute_input": "2022-04-22T05:30:55.972738Z",
     "iopub.status.busy": "2022-04-22T05:30:55.972429Z",
     "iopub.status.idle": "2022-04-22T05:30:56.314549Z",
     "shell.execute_reply": "2022-04-22T05:30:56.313809Z",
     "shell.execute_reply.started": "2022-04-22T05:30:55.972682Z"
    }
   },
   "outputs": [
    {
     "data": {
      "image/png": "[encoded data removed]",
      "text/plain": [
       "<Figure size 864x576 with 1 Axes>"
      ]
     },
     "metadata": {},
     "output_type": "display_data"
    }
   ],
   "source": [
    "plt.figure(figsize=(12,8))\n",
    "plt.plot(history.history['acc'], label='Train Accuracy')\n",
    "plt.plot(history.history['val_acc'], label='Validation Accuracy')\n",
    "plt.title('Model accuracy')\n",
    "plt.ylabel('Accuracy')\n",
    "plt.xlabel('Epoch')\n",
    "plt.legend(['Train', 'Validation'], loc='upper left')\n",
    "plt.show()"
   ]
  },
  {
   "cell_type": "code",
   "execution_count": 11,
   "metadata": {
    "execution": {
     "iopub.execute_input": "2022-04-22T05:31:00.378881Z",
     "iopub.status.busy": "2022-04-22T05:31:00.378585Z",
     "iopub.status.idle": "2022-04-22T05:31:00.697265Z",
     "shell.execute_reply": "2022-04-22T05:31:00.696421Z",
     "shell.execute_reply.started": "2022-04-22T05:31:00.378816Z"
    }
   },
   "outputs": [
    {
     "data": {
      "image/png": "[encoded data removed]",
      "text/plain": [
       "<Figure size 864x576 with 1 Axes>"
      ]
     },
     "metadata": {},
     "output_type": "display_data"
    }
   ],
   "source": [
    "plt.figure(figsize=(12,8))\n",
    "plt.plot(history.history['loss'])\n",
    "plt.plot(history.history['val_loss'])\n",
    "plt.title('Model loss')\n",
    "plt.ylabel('Loss')\n",
    "plt.xlabel('Epoch')\n",
    "plt.legend(['Train', 'Validation'], loc='upper left')\n",
    "plt.show()"
   ]
  },
  {
   "cell_type": "code",
   "execution_count": 12,
   "metadata": {
    "execution": {
     "iopub.execute_input": "2022-04-22T05:31:08.508634Z",
     "iopub.status.busy": "2022-04-22T05:31:08.508362Z",
     "iopub.status.idle": "2022-04-22T05:31:10.933753Z",
     "shell.execute_reply": "2022-04-22T05:31:10.933015Z",
     "shell.execute_reply.started": "2022-04-22T05:31:08.508586Z"
    }
   },
   "outputs": [
    {
     "name": "stderr",
     "output_type": "stream",
     "text": [
      "/opt/conda/lib/python3.6/site-packages/ipykernel_launcher.py:1: SettingWithCopyWarning: \n",
      "A value is trying to be set on a copy of a slice from a DataFrame.\n",
      "Try using .loc[row_indexer,col_indexer] = value instead\n",
      "\n",
      "See the caveats in the documentation: http://pandas.pydata.org/pandas-docs/stable/indexing.html#indexing-view-versus-copy\n",
      "  \"\"\"Entry point for launching an IPython kernel.\n"
     ]
    },
    {
     "data": {
      "text/html": [
       "<div>\n",
       "<style scoped>\n",
       "    .dataframe tbody tr th:only-of-type {\n",
       "        vertical-align: middle;\n",
       "    }\n",
       "\n",
       "    .dataframe tbody tr th {\n",
       "        vertical-align: top;\n",
       "    }\n",
       "\n",
       "    .dataframe thead th {\n",
       "        text-align: right;\n",
       "    }\n",
       "</style>\n",
       "<table border=\"1\" class=\"dataframe\">\n",
       "  <thead>\n",
       "    <tr style=\"text-align: right;\">\n",
       "      <th></th>\n",
       "      <th>id</th>\n",
       "      <th>target</th>\n",
       "      <th>comment_text</th>\n",
       "      <th>severe_toxicity</th>\n",
       "      <th>obscene</th>\n",
       "      <th>identity_attack</th>\n",
       "      <th>insult</th>\n",
       "      <th>threat</th>\n",
       "      <th>asian</th>\n",
       "      <th>atheist</th>\n",
       "      <th>bisexual</th>\n",
       "      <th>black</th>\n",
       "      <th>buddhist</th>\n",
       "      <th>christian</th>\n",
       "      <th>female</th>\n",
       "      <th>heterosexual</th>\n",
       "      <th>hindu</th>\n",
       "      <th>homosexual_gay_or_lesbian</th>\n",
       "      <th>intellectual_or_learning_disability</th>\n",
       "      <th>jewish</th>\n",
       "      <th>latino</th>\n",
       "      <th>male</th>\n",
       "      <th>muslim</th>\n",
       "      <th>other_disability</th>\n",
       "      <th>other_gender</th>\n",
       "      <th>other_race_or_ethnicity</th>\n",
       "      <th>other_religion</th>\n",
       "      <th>other_sexual_orientation</th>\n",
       "      <th>physical_disability</th>\n",
       "      <th>psychiatric_or_mental_illness</th>\n",
       "      <th>transgender</th>\n",
       "      <th>white</th>\n",
       "      <th>created_date</th>\n",
       "      <th>publication_id</th>\n",
       "      <th>parent_id</th>\n",
       "      <th>article_id</th>\n",
       "      <th>rating</th>\n",
       "      <th>funny</th>\n",
       "      <th>wow</th>\n",
       "      <th>sad</th>\n",
       "      <th>likes</th>\n",
       "      <th>disagree</th>\n",
       "      <th>sexual_explicit</th>\n",
       "      <th>identity_annotator_count</th>\n",
       "      <th>toxicity_annotator_count</th>\n",
       "      <th>prediction</th>\n",
       "    </tr>\n",
       "  </thead>\n",
       "  <tbody>\n",
       "    <tr>\n",
       "      <th>555711</th>\n",
       "      <td>923100</td>\n",
       "      <td>False</td>\n",
       "      <td>Lydia,\\nThose are strange facts. \\nThe Nazi pa...</td>\n",
       "      <td>0.0</td>\n",
       "      <td>0.0</td>\n",
       "      <td>0.0</td>\n",
       "      <td>0.0</td>\n",
       "      <td>0.0</td>\n",
       "      <td>0.0</td>\n",
       "      <td>0.0</td>\n",
       "      <td>0.0</td>\n",
       "      <td>False</td>\n",
       "      <td>0.0</td>\n",
       "      <td>False</td>\n",
       "      <td>False</td>\n",
       "      <td>0.0</td>\n",
       "      <td>0.0</td>\n",
       "      <td>False</td>\n",
       "      <td>0.0</td>\n",
       "      <td>True</td>\n",
       "      <td>0.0</td>\n",
       "      <td>False</td>\n",
       "      <td>False</td>\n",
       "      <td>0.0</td>\n",
       "      <td>0.0</td>\n",
       "      <td>0.0</td>\n",
       "      <td>0.0</td>\n",
       "      <td>0.0</td>\n",
       "      <td>0.0</td>\n",
       "      <td>False</td>\n",
       "      <td>0.0</td>\n",
       "      <td>False</td>\n",
       "      <td>2017-01-30 20:44:47.536078+00</td>\n",
       "      <td>53</td>\n",
       "      <td>914894.0</td>\n",
       "      <td>164473</td>\n",
       "      <td>approved</td>\n",
       "      <td>0</td>\n",
       "      <td>0</td>\n",
       "      <td>0</td>\n",
       "      <td>0</td>\n",
       "      <td>0</td>\n",
       "      <td>0.0</td>\n",
       "      <td>4</td>\n",
       "      <td>4</td>\n",
       "      <td>0.052697</td>\n",
       "    </tr>\n",
       "    <tr>\n",
       "      <th>1610468</th>\n",
       "      <td>6093399</td>\n",
       "      <td>False</td>\n",
       "      <td>We'll miss you.</td>\n",
       "      <td>0.0</td>\n",
       "      <td>0.0</td>\n",
       "      <td>0.0</td>\n",
       "      <td>0.0</td>\n",
       "      <td>0.0</td>\n",
       "      <td>NaN</td>\n",
       "      <td>NaN</td>\n",
       "      <td>NaN</td>\n",
       "      <td>False</td>\n",
       "      <td>NaN</td>\n",
       "      <td>False</td>\n",
       "      <td>False</td>\n",
       "      <td>NaN</td>\n",
       "      <td>NaN</td>\n",
       "      <td>False</td>\n",
       "      <td>NaN</td>\n",
       "      <td>False</td>\n",
       "      <td>NaN</td>\n",
       "      <td>False</td>\n",
       "      <td>False</td>\n",
       "      <td>NaN</td>\n",
       "      <td>NaN</td>\n",
       "      <td>NaN</td>\n",
       "      <td>NaN</td>\n",
       "      <td>NaN</td>\n",
       "      <td>NaN</td>\n",
       "      <td>False</td>\n",
       "      <td>NaN</td>\n",
       "      <td>False</td>\n",
       "      <td>2017-10-06 04:03:55.139499+00</td>\n",
       "      <td>54</td>\n",
       "      <td>6092890.0</td>\n",
       "      <td>385407</td>\n",
       "      <td>rejected</td>\n",
       "      <td>0</td>\n",
       "      <td>0</td>\n",
       "      <td>0</td>\n",
       "      <td>0</td>\n",
       "      <td>0</td>\n",
       "      <td>0.0</td>\n",
       "      <td>0</td>\n",
       "      <td>4</td>\n",
       "      <td>0.017151</td>\n",
       "    </tr>\n",
       "    <tr>\n",
       "      <th>228580</th>\n",
       "      <td>522484</td>\n",
       "      <td>False</td>\n",
       "      <td>Brava!👏👏</td>\n",
       "      <td>0.0</td>\n",
       "      <td>0.0</td>\n",
       "      <td>0.0</td>\n",
       "      <td>0.0</td>\n",
       "      <td>0.0</td>\n",
       "      <td>NaN</td>\n",
       "      <td>NaN</td>\n",
       "      <td>NaN</td>\n",
       "      <td>False</td>\n",
       "      <td>NaN</td>\n",
       "      <td>False</td>\n",
       "      <td>False</td>\n",
       "      <td>NaN</td>\n",
       "      <td>NaN</td>\n",
       "      <td>False</td>\n",
       "      <td>NaN</td>\n",
       "      <td>False</td>\n",
       "      <td>NaN</td>\n",
       "      <td>False</td>\n",
       "      <td>False</td>\n",
       "      <td>NaN</td>\n",
       "      <td>NaN</td>\n",
       "      <td>NaN</td>\n",
       "      <td>NaN</td>\n",
       "      <td>NaN</td>\n",
       "      <td>NaN</td>\n",
       "      <td>False</td>\n",
       "      <td>NaN</td>\n",
       "      <td>False</td>\n",
       "      <td>2016-10-11 23:03:39.762684+00</td>\n",
       "      <td>22</td>\n",
       "      <td>522303.0</td>\n",
       "      <td>148209</td>\n",
       "      <td>approved</td>\n",
       "      <td>0</td>\n",
       "      <td>0</td>\n",
       "      <td>0</td>\n",
       "      <td>3</td>\n",
       "      <td>0</td>\n",
       "      <td>0.0</td>\n",
       "      <td>0</td>\n",
       "      <td>10</td>\n",
       "      <td>0.085549</td>\n",
       "    </tr>\n",
       "    <tr>\n",
       "      <th>515703</th>\n",
       "      <td>874887</td>\n",
       "      <td>False</td>\n",
       "      <td>The ancient Church of both East and West does ...</td>\n",
       "      <td>0.0</td>\n",
       "      <td>0.0</td>\n",
       "      <td>0.0</td>\n",
       "      <td>0.0</td>\n",
       "      <td>0.0</td>\n",
       "      <td>0.0</td>\n",
       "      <td>0.0</td>\n",
       "      <td>0.0</td>\n",
       "      <td>False</td>\n",
       "      <td>0.0</td>\n",
       "      <td>True</td>\n",
       "      <td>False</td>\n",
       "      <td>0.0</td>\n",
       "      <td>0.0</td>\n",
       "      <td>False</td>\n",
       "      <td>0.0</td>\n",
       "      <td>False</td>\n",
       "      <td>0.0</td>\n",
       "      <td>False</td>\n",
       "      <td>False</td>\n",
       "      <td>0.0</td>\n",
       "      <td>0.0</td>\n",
       "      <td>0.0</td>\n",
       "      <td>0.0</td>\n",
       "      <td>0.0</td>\n",
       "      <td>0.0</td>\n",
       "      <td>False</td>\n",
       "      <td>0.0</td>\n",
       "      <td>False</td>\n",
       "      <td>2017-01-21 18:15:59.916434+00</td>\n",
       "      <td>22</td>\n",
       "      <td>873156.0</td>\n",
       "      <td>162998</td>\n",
       "      <td>approved</td>\n",
       "      <td>0</td>\n",
       "      <td>0</td>\n",
       "      <td>0</td>\n",
       "      <td>0</td>\n",
       "      <td>0</td>\n",
       "      <td>0.0</td>\n",
       "      <td>4</td>\n",
       "      <td>4</td>\n",
       "      <td>0.013517</td>\n",
       "    </tr>\n",
       "    <tr>\n",
       "      <th>516211</th>\n",
       "      <td>875445</td>\n",
       "      <td>False</td>\n",
       "      <td>I heard that President Trump was going to be m...</td>\n",
       "      <td>0.0</td>\n",
       "      <td>0.0</td>\n",
       "      <td>0.0</td>\n",
       "      <td>0.0</td>\n",
       "      <td>0.0</td>\n",
       "      <td>NaN</td>\n",
       "      <td>NaN</td>\n",
       "      <td>NaN</td>\n",
       "      <td>False</td>\n",
       "      <td>NaN</td>\n",
       "      <td>False</td>\n",
       "      <td>False</td>\n",
       "      <td>NaN</td>\n",
       "      <td>NaN</td>\n",
       "      <td>False</td>\n",
       "      <td>NaN</td>\n",
       "      <td>False</td>\n",
       "      <td>NaN</td>\n",
       "      <td>False</td>\n",
       "      <td>False</td>\n",
       "      <td>NaN</td>\n",
       "      <td>NaN</td>\n",
       "      <td>NaN</td>\n",
       "      <td>NaN</td>\n",
       "      <td>NaN</td>\n",
       "      <td>NaN</td>\n",
       "      <td>False</td>\n",
       "      <td>NaN</td>\n",
       "      <td>False</td>\n",
       "      <td>2017-01-21 19:37:07.343866+00</td>\n",
       "      <td>54</td>\n",
       "      <td>NaN</td>\n",
       "      <td>163303</td>\n",
       "      <td>approved</td>\n",
       "      <td>0</td>\n",
       "      <td>0</td>\n",
       "      <td>0</td>\n",
       "      <td>0</td>\n",
       "      <td>0</td>\n",
       "      <td>0.0</td>\n",
       "      <td>0</td>\n",
       "      <td>6</td>\n",
       "      <td>0.004241</td>\n",
       "    </tr>\n",
       "  </tbody>\n",
       "</table>\n",
       "</div>"
      ],
      "text/plain": [
       "              id  target     ...     toxicity_annotator_count  prediction\n",
       "555711    923100   False     ...                            4    0.052697\n",
       "1610468  6093399   False     ...                            4    0.017151\n",
       "228580    522484   False     ...                           10    0.085549\n",
       "515703    874887   False     ...                            4    0.013517\n",
       "516211    875445   False     ...                            6    0.004241\n",
       "\n",
       "[5 rows x 46 columns]"
      ]
     },
     "execution_count": 12,
     "metadata": {},
     "output_type": "execute_result"
    }
   ],
   "source": [
    "validate_df[PREDICTION] = model.predict(pad_text(validate_df[TEXT], tokenizer))[:, 1]\n",
    "validate_df.head()"
   ]
  },
  {
   "cell_type": "code",
   "execution_count": 33,
   "metadata": {
    "execution": {
     "iopub.execute_input": "2022-04-22T05:47:18.240692Z",
     "iopub.status.busy": "2022-04-22T05:47:18.240403Z",
     "iopub.status.idle": "2022-04-22T05:47:18.256031Z",
     "shell.execute_reply": "2022-04-22T05:47:18.255026Z",
     "shell.execute_reply.started": "2022-04-22T05:47:18.240639Z"
    }
   },
   "outputs": [],
   "source": [
    "class JigsawEvaluator:\n",
    "\n",
    "    def __init__(self, y_true, y_identity, power=-5, overall_model_weight=0.25):\n",
    "        self.y = (y_true >= 0.5).astype(int)\n",
    "        self.y_i = (y_identity >= 0.5).astype(int)\n",
    "        self.n_subgroups = self.y_i.shape[1]\n",
    "        self.power = power\n",
    "        self.overall_model_weight = overall_model_weight\n",
    "\n",
    "    @staticmethod\n",
    "    def _compute_auc(y_true, y_pred):\n",
    "        try:\n",
    "            return roc_auc_score(y_true, y_pred)\n",
    "        except ValueError:\n",
    "            return np.nan\n",
    "\n",
    "    def _compute_subgroup_auc(self, i, y_pred):\n",
    "        \"\"\"Restrict the data set to only the examples that mention the specific identity subgroup.\n",
    "        A low value in this metric means the model does a poor job of distinguishing\n",
    "        between toxic and non-toxic comments that mention the identity.\"\"\"\n",
    "        mask = self.y_i[:, i] == 1\n",
    "        return self._compute_auc(self.y[mask], y_pred[mask])\n",
    "\n",
    "    def _compute_bpsn_auc(self, i, y_pred):\n",
    "        \"\"\"BPSN (Background Positive, Subgroup Negative) AUC:\n",
    "        Restrict the test set to the non-toxic examples that mention the identity and the toxic examples that do not.\n",
    "        A low value in this metric means that the model confuses non-toxic examples\n",
    "        that mention the identity with toxic examples that do not,\n",
    "        likely meaning that the model predicts higher toxicity scores than it should for non-toxic examples mentioning the identity.\"\"\"\n",
    "        mask = self.y_i[:, i] + self.y == 1\n",
    "        return self._compute_auc(self.y[mask], y_pred[mask])\n",
    "\n",
    "    def _compute_bnsp_auc(self, i, y_pred):\n",
    "        \"\"\"BNSP (Background Negative, Subgroup Positive) AUC:\n",
    "        Restrict the test set to the toxic examples that mention the identity and the non-toxic examples that do not.\n",
    "        A low value here means that the model confuses toxic examples that mention the identity with non-toxic examples that do not,\n",
    "        likely meaning that the model predicts lower toxicity scores than it should for toxic examples mentioning the identity.\"\"\"\n",
    "        mask = self.y_i[:, i] + self.y != 1\n",
    "        return self._compute_auc(self.y[mask], y_pred[mask])\n",
    "\n",
    "    def _compute_bias_metrics_for_model(self, y_pred):\n",
    "        records = np.zeros((3, self.n_subgroups))\n",
    "        for i in range(self.n_subgroups):\n",
    "            records[0, i] = self._compute_subgroup_auc(i, y_pred)\n",
    "            records[1, i] = self._compute_bpsn_auc(i, y_pred)\n",
    "            records[2, i] = self._compute_bnsp_auc(i, y_pred)\n",
    "        return records\n",
    "    \n",
    "    def _compute_bias_metrics(self, y_pred):\n",
    "        records = []\n",
    "        for i in range(self.n_subgroups):\n",
    "            record = {\n",
    "                'subgroup': IDENTITY[i],\n",
    "            }\n",
    "            record['subgroup_auc'] = self._compute_subgroup_auc(i, y_pred)\n",
    "            record['bpsn_auc'] = self._compute_bpsn_auc(i, y_pred)\n",
    "            record['bnsp_auc'] = self._compute_bnsp_auc(i, y_pred)\n",
    "            records.append(record)\n",
    "        return pd.DataFrame(records).sort_values('subgroup_auc', ascending=True)\n",
    "\n",
    "    def _calculate_overall_auc(self, y_pred):\n",
    "        return roc_auc_score(self.y, y_pred)\n",
    "\n",
    "    def _power_mean(self, array):\n",
    "        total = sum(np.power(array, self.power))\n",
    "        return np.power(total / len(array), 1 / self.power)\n",
    "\n",
    "    def get_final_metric(self, y_pred):\n",
    "        bias_metrics = self._compute_bias_metrics_for_model(y_pred)\n",
    "        bias_metrics_df = self._compute_bias_metrics(y_pred)\n",
    "        print(bias_metrics_df)\n",
    "        bias_score = np.average([\n",
    "            self._power_mean(bias_metrics[0]),\n",
    "            self._power_mean(bias_metrics[1]),\n",
    "            self._power_mean(bias_metrics[2])\n",
    "        ])\n",
    "        overall_score = self.overall_model_weight * self._calculate_overall_auc(y_pred)\n",
    "        bias_score = (1 - self.overall_model_weight) * bias_score\n",
    "        return overall_score + bias_score"
   ]
  },
  {
   "cell_type": "code",
   "execution_count": 34,
   "metadata": {
    "execution": {
     "iopub.execute_input": "2022-04-22T05:47:20.356649Z",
     "iopub.status.busy": "2022-04-22T05:47:20.356370Z",
     "iopub.status.idle": "2022-04-22T05:47:20.489409Z",
     "shell.execute_reply": "2022-04-22T05:47:20.488632Z",
     "shell.execute_reply.started": "2022-04-22T05:47:20.356597Z"
    }
   },
   "outputs": [
    {
     "name": "stdout",
     "output_type": "stream",
     "text": [
      "   bnsp_auc  bpsn_auc                       subgroup  subgroup_auc\n",
      "6  0.946402  0.796038                          black      0.795332\n",
      "2  0.957625  0.803956      homosexual_gay_or_lesbian      0.804440\n",
      "5  0.938961  0.828805                         muslim      0.822385\n",
      "4  0.927770  0.872263                         jewish      0.825472\n",
      "7  0.962800  0.802582                          white      0.848614\n",
      "1  0.935582  0.882721                         female      0.870124\n",
      "0  0.955737  0.866592                           male      0.888062\n",
      "3  0.917301  0.916438                      christian      0.889784\n",
      "8  0.964216  0.850727  psychiatric_or_mental_illness      0.901163\n",
      "auc_score=0.8911340083853408\n"
     ]
    }
   ],
   "source": [
    "y_true = validate_df[TARGET].values\n",
    "y_identity = validate_df[IDENTITY].values\n",
    "\n",
    "# predict\n",
    "y_pred = validate_df[PREDICTION].values\n",
    "\n",
    "# evaluate\n",
    "evaluator = JigsawEvaluator(y_true, y_identity)\n",
    "auc_score = evaluator.get_final_metric(y_pred)\n",
    "print('auc_score={}'.format(auc_score))"
   ]
  },
  {
   "cell_type": "markdown",
   "metadata": {},
   "source": [
    "Best Score = 0.8911340083853408"
   ]
  },
  {
   "cell_type": "code",
   "execution_count": 15,
   "metadata": {
    "execution": {
     "iopub.execute_input": "2022-04-22T05:32:21.865299Z",
     "iopub.status.busy": "2022-04-22T05:32:21.865004Z",
     "iopub.status.idle": "2022-04-22T05:32:34.752002Z",
     "shell.execute_reply": "2022-04-22T05:32:34.751404Z",
     "shell.execute_reply.started": "2022-04-22T05:32:21.865251Z"
    }
   },
   "outputs": [
    {
     "data": {
      "text/html": [
       "<div>\n",
       "<style scoped>\n",
       "    .dataframe tbody tr th:only-of-type {\n",
       "        vertical-align: middle;\n",
       "    }\n",
       "\n",
       "    .dataframe tbody tr th {\n",
       "        vertical-align: top;\n",
       "    }\n",
       "\n",
       "    .dataframe thead th {\n",
       "        text-align: right;\n",
       "    }\n",
       "</style>\n",
       "<table border=\"1\" class=\"dataframe\">\n",
       "  <thead>\n",
       "    <tr style=\"text-align: right;\">\n",
       "      <th></th>\n",
       "      <th>prediction</th>\n",
       "    </tr>\n",
       "    <tr>\n",
       "      <th>id</th>\n",
       "      <th></th>\n",
       "    </tr>\n",
       "  </thead>\n",
       "  <tbody>\n",
       "    <tr>\n",
       "      <th>7097320</th>\n",
       "      <td>0.017761</td>\n",
       "    </tr>\n",
       "    <tr>\n",
       "      <th>7097321</th>\n",
       "      <td>0.039389</td>\n",
       "    </tr>\n",
       "    <tr>\n",
       "      <th>7097322</th>\n",
       "      <td>0.099461</td>\n",
       "    </tr>\n",
       "    <tr>\n",
       "      <th>7097323</th>\n",
       "      <td>0.012865</td>\n",
       "    </tr>\n",
       "    <tr>\n",
       "      <th>7097324</th>\n",
       "      <td>0.008117</td>\n",
       "    </tr>\n",
       "  </tbody>\n",
       "</table>\n",
       "</div>"
      ],
      "text/plain": [
       "         prediction\n",
       "id                 \n",
       "7097320    0.017761\n",
       "7097321    0.039389\n",
       "7097322    0.099461\n",
       "7097323    0.012865\n",
       "7097324    0.008117"
      ]
     },
     "execution_count": 15,
     "metadata": {},
     "output_type": "execute_result"
    }
   ],
   "source": [
    "test = pd.read_csv('../input/jigsaw-unintended-bias-in-toxicity-classification/test.csv')\n",
    "submission = pd.read_csv('../input/jigsaw-unintended-bias-in-toxicity-classification/sample_submission.csv', index_col='id')\n",
    "submission[PREDICTION] = model.predict(pad_text(test[TEXT], tokenizer))[:, 1]\n",
    "submission.head()"
   ]
  },
  {
   "cell_type": "code",
   "execution_count": 16,
   "metadata": {
    "execution": {
     "iopub.execute_input": "2022-04-22T05:32:49.414186Z",
     "iopub.status.busy": "2022-04-22T05:32:49.413899Z",
     "iopub.status.idle": "2022-04-22T05:32:49.421377Z",
     "shell.execute_reply": "2022-04-22T05:32:49.420336Z",
     "shell.execute_reply.started": "2022-04-22T05:32:49.414133Z"
    }
   },
   "outputs": [
    {
     "data": {
      "text/plain": [
       "(97320, 1)"
      ]
     },
     "execution_count": 16,
     "metadata": {},
     "output_type": "execute_result"
    }
   ],
   "source": [
    "submission.shape"
   ]
  },
  {
   "cell_type": "code",
   "execution_count": 17,
   "metadata": {
    "execution": {
     "iopub.execute_input": "2022-04-22T05:32:57.340499Z",
     "iopub.status.busy": "2022-04-22T05:32:57.340227Z",
     "iopub.status.idle": "2022-04-22T05:32:57.872443Z",
     "shell.execute_reply": "2022-04-22T05:32:57.871654Z",
     "shell.execute_reply.started": "2022-04-22T05:32:57.340448Z"
    }
   },
   "outputs": [
    {
     "name": "stdout",
     "output_type": "stream",
     "text": [
      "['__notebook_source__.ipynb', 'submissionfastext.csv']\n"
     ]
    }
   ],
   "source": [
    "submission.to_csv('submissionfastext.csv')\n",
    "print(os.listdir(\".\"))"
   ]
  },
  {
   "cell_type": "code",
   "execution_count": null,
   "metadata": {},
   "outputs": [],
   "source": []
  }
 ],
 "metadata": {
  "kernelspec": {
   "display_name": "Python 3 (ipykernel)",
   "language": "python",
   "name": "python3"
  },
  "language_info": {
   "codemirror_mode": {
    "name": "ipython",
    "version": 3
   },
   "file_extension": ".py",
   "mimetype": "text/x-python",
   "name": "python",
   "nbconvert_exporter": "python",
   "pygments_lexer": "ipython3",
   "version": "3.7.11"
  }
 },
 "nbformat": 4,
 "nbformat_minor": 4
}
